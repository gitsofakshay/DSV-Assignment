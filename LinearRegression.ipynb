{
  "nbformat": 4,
  "nbformat_minor": 0,
  "metadata": {
    "colab": {
      "provenance": [],
      "authorship_tag": "ABX9TyMRdtzJl7quU39Xd90D6opS",
      "include_colab_link": true
    },
    "kernelspec": {
      "name": "python3",
      "display_name": "Python 3"
    },
    "language_info": {
      "name": "python"
    }
  },
  "cells": [
    {
      "cell_type": "markdown",
      "metadata": {
        "id": "view-in-github",
        "colab_type": "text"
      },
      "source": [
        "<a href=\"https://colab.research.google.com/github/gitsofakshay/DSV-Assignment/blob/main/LinearRegression.ipynb\" target=\"_parent\"><img src=\"https://colab.research.google.com/assets/colab-badge.svg\" alt=\"Open In Colab\"/></a>"
      ]
    },
    {
      "cell_type": "code",
      "execution_count": null,
      "metadata": {
        "colab": {
          "base_uri": "https://localhost:8080/"
        },
        "id": "PwiWL8YFCQV1",
        "outputId": "b5dcd36b-0d1c-4c80-b32e-ad4c5fb843ec"
      },
      "outputs": [
        {
          "output_type": "stream",
          "name": "stdout",
          "text": [
            "Mean Squared Error (MSE) on the test set: 87284861.23745248\n",
            "\n",
            "Model Coefficients:\n",
            "Intercept: 53683.13777011001\n",
            "Slope (Coefficient for YearsExperience): 9292.54587533946\n"
          ]
        }
      ],
      "source": [
        "import numpy as np\n",
        "import pandas as pd\n",
        "from sklearn.model_selection import train_test_split\n",
        "from sklearn.linear_model import LinearRegression\n",
        "from sklearn.metrics import mean_squared_error\n",
        "\n",
        "# Generate a synthetic dataset\n",
        "np.random.seed(42)\n",
        "years_experience = np.random.normal(5, 2, 100)  # Mean years of experience is 5 with std dev of 2\n",
        "# Salary is roughly based on years of experience with some random noise\n",
        "salary = 50000 + (years_experience * 10000) + np.random.normal(0, 10000, 100)\n",
        "\n",
        "# Create a DataFrame\n",
        "data = pd.DataFrame({'YearsExperience': years_experience, 'Salary': salary})\n",
        "\n",
        "# Split the data into training and testing sets (80-20 split)\n",
        "X = data[['YearsExperience']]\n",
        "y = data['Salary']\n",
        "X_train, X_test, y_train, y_test = train_test_split(X, y, test_size=0.2, random_state=42)\n",
        "\n",
        "# Initialize and train the linear regression model\n",
        "model = LinearRegression()\n",
        "model.fit(X_train, y_train)\n",
        "\n",
        "# Predict on the test set\n",
        "y_pred = model.predict(X_test)\n",
        "\n",
        "# Calculate Mean Squared Error (MSE)\n",
        "mse = mean_squared_error(y_test, y_pred)\n",
        "\n",
        "# Display the results\n",
        "print(\"Mean Squared Error (MSE) on the test set:\", mse)\n",
        "print(\"\\nModel Coefficients:\")\n",
        "print(\"Intercept:\", model.intercept_)\n",
        "print(\"Slope (Coefficient for YearsExperience):\", model.coef_[0])\n"
      ]
    }
  ]
}