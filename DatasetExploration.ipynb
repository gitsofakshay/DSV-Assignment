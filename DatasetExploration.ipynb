{
  "nbformat": 4,
  "nbformat_minor": 0,
  "metadata": {
    "colab": {
      "provenance": [],
      "authorship_tag": "ABX9TyOSgTs2rLIO7lQAXiFCcGlt",
      "include_colab_link": true
    },
    "kernelspec": {
      "name": "python3",
      "display_name": "Python 3"
    },
    "language_info": {
      "name": "python"
    }
  },
  "cells": [
    {
      "cell_type": "markdown",
      "metadata": {
        "id": "view-in-github",
        "colab_type": "text"
      },
      "source": [
        "<a href=\"https://colab.research.google.com/github/gitsofakshay/DSV-Assignment/blob/main/DatasetExploration.ipynb\" target=\"_parent\"><img src=\"https://colab.research.google.com/assets/colab-badge.svg\" alt=\"Open In Colab\"/></a>"
      ]
    },
    {
      "cell_type": "code",
      "execution_count": null,
      "metadata": {
        "id": "r34GxHvf-J5f"
      },
      "outputs": [],
      "source": [
        "# Import necessary libraries\n",
        "from sklearn.datasets import load_iris\n",
        "import pandas as pd\n",
        "\n",
        "# Load the Iris dataset\n",
        "iris = load_iris()\n",
        "# Convert to a DataFrame for easy manipulation and exploration\n",
        "iris_df = pd.DataFrame(data=iris.data, columns=iris.feature_names)\n",
        "\n",
        "# Display the first five rows\n",
        "print(\"\\nFirst five rows of the Iris dataset:\\n\")\n",
        "print(iris_df.head())\n",
        "\n",
        "# Display the dataset's shape\n",
        "print(\"\\nShape of the dataset:\\n\")\n",
        "print(iris_df.shape)\n",
        "\n",
        "# Display summary statistics\n",
        "print(\"\\nSummary statistics for each feature:\\n\")\n",
        "print(iris_df.describe())\n"
      ]
    }
  ]
}